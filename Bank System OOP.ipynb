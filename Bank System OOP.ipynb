{
 "cells": [
  {
   "cell_type": "code",
   "execution_count": 5,
   "metadata": {},
   "outputs": [],
   "source": [
    "class User:\n",
    "    def __init__(self, n , a , g , b, c):\n",
    "        self.__name = n\n",
    "        self.__age = a\n",
    "        self.__gender = g\n",
    "        self.__balance = b\n",
    "        self.__currency = c\n",
    "    def get_user_data(self):\n",
    "        print(f\"The User {self.__name} data is : \")\n",
    "        print(f\"1. {self.__name}'s age is {self.__age} \")\n",
    "        print(f\"2. {self.__name}'s Gender is {self.__gender}\")\n",
    "        print(f\"3. {self.__name}'s balance is {self.__balance}\")\n",
    "        print(f\"3. Account currency is {self.__currency}\")"
   ]
  },
  {
   "cell_type": "code",
   "execution_count": 6,
   "metadata": {},
   "outputs": [],
   "source": [
    "class Bank(User):\n",
    "    def deposit(self , amount):\n",
    "        #self.amount = amount\n",
    "        self._User__balance =  self._User__balance + amount\n",
    "        print(f\"The amount added successufully \\nNow , the new {self._User__name}'s balance is {self._User__balance}\")\n",
    "    def withdraw(self, amount):\n",
    "        if self._User__balance >= amount:\n",
    "            self._User__balance = self._User__balance - amount\n",
    "            print(f\"The amount withdrawed successufully \\nNow , the new {self._User__name}'s balance is {self._User__balance}\")\n",
    "        else :\n",
    "            print(f\"You can't withdraw {amount}\")\n",
    "            print(f\"Your balance is only {self._User__balance} , so please withdraw an appropiate amount\")\n",
    "            \n",
    "    def Show_balance(self):\n",
    "        print(f\"Your balance is  {self._User__balance} \")"
   ]
  },
  {
   "cell_type": "code",
   "execution_count": 9,
   "metadata": {},
   "outputs": [
    {
     "name": "stdout",
     "output_type": "stream",
     "text": [
      "The User Nour data is : \n",
      "1. Nour's age is 23 \n",
      "2. Nour's Gender is Male\n",
      "3. Nour's balance is 300000\n",
      "3. Account currency is EGP\n"
     ]
    }
   ],
   "source": [
    "Nour = User(\"Nour\" , 23 , \"Male\" , 300000, \"EGP\")\n",
    "Nour.get_user_data()"
   ]
  },
  {
   "cell_type": "code",
   "execution_count": 11,
   "metadata": {},
   "outputs": [],
   "source": [
    "Nour = Bank(\"Nour\" , 23 , \"Male\" , 300000, \"EGP\")"
   ]
  },
  {
   "cell_type": "code",
   "execution_count": 12,
   "metadata": {},
   "outputs": [
    {
     "name": "stdout",
     "output_type": "stream",
     "text": [
      "The amount added successufully \n",
      "Now , the new Nour's balance is 301000\n"
     ]
    }
   ],
   "source": [
    "Nour.deposit(1000)"
   ]
  },
  {
   "cell_type": "code",
   "execution_count": 13,
   "metadata": {},
   "outputs": [
    {
     "name": "stdout",
     "output_type": "stream",
     "text": [
      "Your balance is  301000 \n"
     ]
    }
   ],
   "source": [
    "Nour.Show_balance()"
   ]
  },
  {
   "cell_type": "code",
   "execution_count": 14,
   "metadata": {},
   "outputs": [
    {
     "name": "stdout",
     "output_type": "stream",
     "text": [
      "You can't withdraw 100000000\n",
      "Your balance is only 301000 , so please withdraw an appropiate amount\n"
     ]
    }
   ],
   "source": [
    "Nour.withdraw(100000000)"
   ]
  },
  {
   "cell_type": "code",
   "execution_count": 15,
   "metadata": {},
   "outputs": [
    {
     "name": "stdout",
     "output_type": "stream",
     "text": [
      "The amount withdrawed successufully \n",
      "Now , the new Nour's balance is 291000\n"
     ]
    }
   ],
   "source": [
    "Nour.withdraw(10000)"
   ]
  },
  {
   "attachments": {},
   "cell_type": "markdown",
   "metadata": {},
   "source": [
    "# My github : https://github.com/Noureldiiin"
   ]
  }
 ],
 "metadata": {
  "kernelspec": {
   "display_name": "Python 3",
   "language": "python",
   "name": "python3"
  },
  "language_info": {
   "codemirror_mode": {
    "name": "ipython",
    "version": 3
   },
   "file_extension": ".py",
   "mimetype": "text/x-python",
   "name": "python",
   "nbconvert_exporter": "python",
   "pygments_lexer": "ipython3",
   "version": "3.10.8"
  },
  "orig_nbformat": 4,
  "vscode": {
   "interpreter": {
    "hash": "369f2c481f4da34e4445cda3fffd2e751bd1c4d706f27375911949ba6bb62e1c"
   }
  }
 },
 "nbformat": 4,
 "nbformat_minor": 2
}
